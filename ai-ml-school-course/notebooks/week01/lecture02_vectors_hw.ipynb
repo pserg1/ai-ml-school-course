{
 "cells": [
  {
   "cell_type": "markdown",
   "metadata": {},
   "source": [
    "# Неделя 1, Занятие 2: Домашнее задание - Векторы\n",
    "\n",
    "## 🎯 Цель\n",
    "Закрепить понимание векторов и операций с ними\n",
    "\n",
    "**Инструкция:** Заполните ячейки с кодом там, где написано `# TODO`\n",
    "\n",
    "---"
   ]
  },
  {
   "cell_type": "markdown",
   "metadata": {},
   "source": [
    "## Задание 1: Импорт библиотек"
   ]
  },
  {
   "cell_type": "code",
   "execution_count": null,
   "metadata": {},
   "outputs": [],
   "source": [
    "# TODO: Импортируйте необходимые библиотеки\n",
    "import numpy as np\n",
    "import matplotlib.pyplot as plt\n",
    "\n",
    "plt.style.use('seaborn-v0_8-darkgrid')\n",
    "plt.rcParams['figure.figsize'] = (10, 8)"
   ]
  },
  {
   "cell_type": "markdown",
   "metadata": {},
   "source": [
    "## Задание 2: Создание векторов\n",
    "\n",
    "Создайте два вектора:\n",
    "- `v1 = [4, 3]`\n",
    "- `v2 = [2, 5]`"
   ]
  },
  {
   "cell_type": "code",
   "execution_count": null,
   "metadata": {},
   "outputs": [],
   "source": [
    "# TODO: Создайте векторы v1 и v2\n",
    "v1 = # ваш код\n",
    "v2 = # ваш код\n",
    "\n",
    "print(f\"v1 = {v1}\")\n",
    "print(f\"v2 = {v2}\")"
   ]
  },
  {
   "cell_type": "markdown",
   "metadata": {},
   "source": [
    "## Задание 3: Вычисление длины вектора\n",
    "\n",
    "Вычислите длину (magnitude) вектора v1 используя `np.linalg.norm()`"
   ]
  },
  {
   "cell_type": "code",
   "execution_count": null,
   "metadata": {},
   "outputs": [],
   "source": [
    "# TODO: Вычислите длину вектора v1\n",
    "length_v1 = # ваш код\n",
    "\n",
    "print(f\"Длина вектора v1: {length_v1:.2f}\")"
   ]
  },
  {
   "cell_type": "markdown",
   "metadata": {},
   "source": [
    "## Задание 4: Визуализация векторов\n",
    "\n",
    "Нарисуйте оба вектора на одном графике."
   ]
  },
  {
   "cell_type": "code",
   "execution_count": null,
   "metadata": {},
   "outputs": [],
   "source": [
    "# Функция для рисования (готовая)\n",
    "def plot_vector(vector, color='blue', label='Vector'):\n",
    "    plt.quiver(0, 0, vector[0], vector[1], \n",
    "               angles='xy', scale_units='xy', scale=1,\n",
    "               color=color, width=0.006, label=label)\n",
    "    plt.plot(vector[0], vector[1], 'o', color=color, markersize=8)\n",
    "\n",
    "# TODO: Нарисуйте v1 синим цветом\n",
    "# ваш код\n",
    "\n",
    "# TODO: Нарисуйте v2 красным цветом\n",
    "# ваш код\n",
    "\n",
    "plt.xlim(-1, 7)\n",
    "plt.ylim(-1, 7)\n",
    "plt.xlabel('X')\n",
    "plt.ylabel('Y')\n",
    "plt.title('Мои векторы')\n",
    "plt.grid(True, alpha=0.3)\n",
    "plt.axhline(y=0, color='k', linewidth=0.5)\n",
    "plt.axvline(x=0, color='k', linewidth=0.5)\n",
    "plt.legend()\n",
    "plt.axis('equal')\n",
    "plt.show()"
   ]
  },
  {
   "cell_type": "markdown",
   "metadata": {},
   "source": [
    "## Задание 5: Сложение векторов\n",
    "\n",
    "Сложите v1 и v2, получите v_sum, и визуализируйте все три вектора."
   ]
  },
  {
   "cell_type": "code",
   "execution_count": null,
   "metadata": {},
   "outputs": [],
   "source": [
    "# TODO: Сложите векторы\n",
    "v_sum = # ваш код\n",
    "\n",
    "print(f\"v1 + v2 = {v_sum}\")\n",
    "\n",
    "# TODO: Визуализируйте v1, v2 и v_sum\n",
    "plt.figure(figsize=(10, 8))\n",
    "\n",
    "# Ваш код для визуализации\n",
    "\n",
    "\n",
    "plt.xlim(-1, 8)\n",
    "plt.ylim(-1, 10)\n",
    "plt.xlabel('X')\n",
    "plt.ylabel('Y')\n",
    "plt.title('Сложение векторов')\n",
    "plt.grid(True, alpha=0.3)\n",
    "plt.axhline(y=0, color='k', linewidth=0.5)\n",
    "plt.axvline(x=0, color='k', linewidth=0.5)\n",
    "plt.legend()\n",
    "plt.axis('equal')\n",
    "plt.show()"
   ]
  },
  {
   "cell_type": "markdown",
   "metadata": {},
   "source": [
    "## Задание 6: Умножение вектора на число\n",
    "\n",
    "Умножьте вектор v1 на 2, 0.5 и -1. Визуализируйте все результаты."
   ]
  },
  {
   "cell_type": "code",
   "execution_count": null,
   "metadata": {},
   "outputs": [],
   "source": [
    "# TODO: Создайте масштабированные версии v1\n",
    "v1_times_2 = # ваш код\n",
    "v1_times_half = # ваш код\n",
    "v1_times_minus1 = # ваш код\n",
    "\n",
    "# TODO: Визуализируйте все векторы разными цветами\n",
    "plt.figure(figsize=(10, 8))\n",
    "\n",
    "# Ваш код\n",
    "\n",
    "\n",
    "plt.xlim(-5, 10)\n",
    "plt.ylim(-5, 8)\n",
    "plt.xlabel('X')\n",
    "plt.ylabel('Y')\n",
    "plt.title('Умножение вектора на число')\n",
    "plt.grid(True, alpha=0.3)\n",
    "plt.axhline(y=0, color='k', linewidth=0.5)\n",
    "plt.axvline(x=0, color='k', linewidth=0.5)\n",
    "plt.legend()\n",
    "plt.axis('equal')\n",
    "plt.show()"
   ]
  },
  {
   "cell_type": "markdown",
   "metadata": {},
   "source": [
    "## Задание 7: Маршрут робота 🤖\n",
    "\n",
    "Робот делает следующие шаги:\n",
    "1. [3, 1]\n",
    "2. [2, 3]\n",
    "3. [-1, 2]\n",
    "4. [1, -2]\n",
    "\n",
    "Где он окажется? Нарисуйте маршрут!"
   ]
  },
  {
   "cell_type": "code",
   "execution_count": null,
   "metadata": {},
   "outputs": [],
   "source": [
    "# TODO: Создайте список шагов\n",
    "steps = [\n",
    "    # ваши шаги\n",
    "]\n",
    "\n",
    "# TODO: Вычислите все позиции робота\n",
    "position = np.array([0, 0])\n",
    "positions = [position.copy()]\n",
    "\n",
    "# Ваш код для вычисления позиций\n",
    "\n",
    "\n",
    "positions = np.array(positions)\n",
    "\n",
    "# TODO: Визуализируйте маршрут\n",
    "plt.figure(figsize=(10, 8))\n",
    "\n",
    "# Ваш код для визуализации\n",
    "\n",
    "\n",
    "plt.xlabel('X')\n",
    "plt.ylabel('Y')\n",
    "plt.title('Маршрут моего робота')\n",
    "plt.grid(True, alpha=0.3)\n",
    "plt.axhline(y=0, color='k', linewidth=0.5)\n",
    "plt.axvline(x=0, color='k', linewidth=0.5)\n",
    "plt.legend()\n",
    "plt.axis('equal')\n",
    "plt.show()\n",
    "\n",
    "print(f\"🤖 Итоговая позиция: {positions[-1]}\")"
   ]
  },
  {
   "cell_type": "markdown",
   "metadata": {},
   "source": [
    "## Задание 8*: Креативное (необязательно)\n",
    "\n",
    "### Задача: Нарисуйте картинку используя только векторы!\n",
    "\n",
    "Идеи:\n",
    "- Дом (квадрат + треугольник крыша)\n",
    "- Робот\n",
    "- Лицо (круг + глаза + рот из векторов)\n",
    "\n",
    "Используйте сложение векторов и масштабирование!"
   ]
  },
  {
   "cell_type": "code",
   "execution_count": null,
   "metadata": {},
   "outputs": [],
   "source": [
    "# Ваш креативный код здесь! 🎨\n",
    "\n"
   ]
  },
  {
   "cell_type": "markdown",
   "metadata": {},
   "source": [
    "## 🎉 Отлично!\n",
    "\n",
    "Вы освоили:\n",
    "- ✅ Создание векторов\n",
    "- ✅ Вычисление длины\n",
    "- ✅ Сложение и умножение\n",
    "- ✅ Визуализацию в 2D\n",
    "\n",
    "---\n",
    "\n",
    "## 🤔 Вопросы для размышления\n",
    "\n",
    "1. Что произойдет, если умножить вектор на 0?\n",
    "2. Можно ли \"вычесть\" векторы? (Подсказка: вычитание = прибавление отрицательного)\n",
    "3. Как вы думаете, почему в ML данные представлены векторами?\n",
    "\n",
    "---\n",
    "\n",
    "**Следующая неделя:** Span и линейные комбинации — как создать ВСЕ возможные векторы! 🚀"
   ]
  }
 ],
 "metadata": {
  "kernelspec": {
   "display_name": "Python 3",
   "language": "python",
   "name": "python3"
  },
  "language_info": {
   "codemirror_mode": {
    "name": "ipython",
    "version": 3
   },
   "file_extension": ".py",
   "mimetype": "text/x-python",
   "name": "python",
   "nbconvert_exporter": "python",
   "pygments_lexer": "ipython3",
   "version": "3.8.0"
  }
 },
 "nbformat": 4,
 "nbformat_minor": 4
}
