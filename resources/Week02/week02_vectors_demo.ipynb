{
 "cells": [
  {
   "cell_type": "markdown",
   "metadata": {},
   "source": [
    "# Неделя 1, Занятие 2: Векторы - Визуализация в 2D/3D\n",
    "\n",
    "## 🎯 Цели занятия\n",
    "- Понять, что такое векторы\n",
    "- Научиться визуализировать векторы в 2D и 3D\n",
    "- Понять операции с векторами (сложение, умножение)\n",
    "- Увидеть связь векторов с машинным обучением\n",
    "\n",
    "---"
   ]
  },
  {
   "cell_type": "markdown",
   "metadata": {},
   "source": [
    "## 1. Что такое вектор?\n",
    "\n",
    "**Вектор** — это \"стрелка\" с направлением и длиной (magnitude).\n",
    "\n",
    "**Примеры из жизни:**\n",
    "- 🧭 Движение: \"3 км на восток, 2 км на север\" = вектор (3, 2)\n",
    "- 🎮 Скорость в игре: направление + быстрота\n",
    "- 📊 Данные: рост и вес человека = вектор (180 см, 75 кг)\n",
    "\n",
    "В Python вектор — это просто массив чисел!\n",
    "\n",
    "---"
   ]
  },
  {
   "cell_type": "code",
   "execution_count": null,
   "metadata": {},
   "outputs": [],
   "source": [
    "# Импортируем библиотеки\n",
    "import numpy as np\n",
    "import matplotlib.pyplot as plt\n",
    "from mpl_toolkits.mplot3d import Axes3D\n",
    "\n",
    "plt.style.use('seaborn-v0_8-darkgrid')\n",
    "plt.rcParams['figure.figsize'] = (10, 8)"
   ]
  },
  {
   "cell_type": "markdown",
   "metadata": {},
   "source": [
    "## 2. Создание векторов в Python"
   ]
  },
  {
   "cell_type": "code",
   "execution_count": null,
   "metadata": {},
   "outputs": [],
   "source": [
    "# Вектор в 2D (два числа: x и y)\n",
    "v1 = np.array([3, 2])\n",
    "print(f\"Вектор v1: {v1}\")\n",
    "print(f\"Координаты: x={v1[0]}, y={v1[1]}\")\n",
    "\n",
    "# Вектор в 3D (три числа: x, y, z)\n",
    "v2 = np.array([1, 2, 3])\n",
    "print(f\"\\nВектор v2 (3D): {v2}\")\n",
    "\n",
    "# Длина вектора (magnitude)\n",
    "length_v1 = np.linalg.norm(v1)\n",
    "print(f\"\\nДлина вектора v1: {length_v1:.2f}\")"
   ]
  },
  {
   "cell_type": "markdown",
   "metadata": {},
   "source": [
    "## 3. Визуализация векторов в 2D"
   ]
  },
  {
   "cell_type": "code",
   "execution_count": null,
   "metadata": {},
   "outputs": [],
   "source": [
    "# Функция для рисования векторов\n",
    "def plot_vector(vector, color='blue', label='Vector'):\n",
    "    \"\"\"Рисует вектор от начала координат\"\"\"\n",
    "    plt.quiver(0, 0, vector[0], vector[1], \n",
    "               angles='xy', scale_units='xy', scale=1,\n",
    "               color=color, width=0.006, label=label)\n",
    "    plt.plot(vector[0], vector[1], 'o', color=color, markersize=8)\n",
    "\n",
    "# Создаем векторы\n",
    "v1 = np.array([3, 2])\n",
    "v2 = np.array([1, 4])\n",
    "\n",
    "# Рисуем\n",
    "plt.figure(figsize=(10, 8))\n",
    "plot_vector(v1, 'blue', 'v1 = [3, 2]')\n",
    "plot_vector(v2, 'red', 'v2 = [1, 4]')\n",
    "\n",
    "plt.xlim(-1, 5)\n",
    "plt.ylim(-1, 5)\n",
    "plt.xlabel('X', fontsize=12)\n",
    "plt.ylabel('Y', fontsize=12)\n",
    "plt.title('Векторы в 2D пространстве', fontsize=14)\n",
    "plt.grid(True, alpha=0.3)\n",
    "plt.axhline(y=0, color='k', linewidth=0.5)\n",
    "plt.axvline(x=0, color='k', linewidth=0.5)\n",
    "plt.legend()\n",
    "plt.axis('equal')\n",
    "plt.show()\n",
    "\n",
    "print(\"💡 Вектор — это стрелка от начала координат (0,0) до точки!\")"
   ]
  },
  {
   "cell_type": "markdown",
   "metadata": {},
   "source": [
    "## 4. Сложение векторов\n",
    "\n",
    "Когда мы складываем векторы, мы \"соединяем стрелки\":\n",
    "- v1 + v2 = новый вектор!"
   ]
  },
  {
   "cell_type": "code",
   "execution_count": null,
   "metadata": {},
   "outputs": [],
   "source": [
    "# Складываем векторы\n",
    "v1 = np.array([3, 2])\n",
    "v2 = np.array([1, 3])\n",
    "v_sum = v1 + v2\n",
    "\n",
    "print(f\"v1 = {v1}\")\n",
    "print(f\"v2 = {v2}\")\n",
    "print(f\"v1 + v2 = {v_sum}\")\n",
    "\n",
    "# Визуализация\n",
    "plt.figure(figsize=(10, 8))\n",
    "plot_vector(v1, 'blue', 'v1')\n",
    "plot_vector(v2, 'red', 'v2')\n",
    "plot_vector(v_sum, 'green', 'v1 + v2')\n",
    "\n",
    "# Показываем \"путь\" сложения\n",
    "plt.plot([0, v1[0], v_sum[0]], [0, v1[1], v_sum[1]], 'k--', alpha=0.3, linewidth=1)\n",
    "\n",
    "plt.xlim(-1, 6)\n",
    "plt.ylim(-1, 6)\n",
    "plt.xlabel('X')\n",
    "plt.ylabel('Y')\n",
    "plt.title('Сложение векторов: v1 + v2')\n",
    "plt.grid(True, alpha=0.3)\n",
    "plt.axhline(y=0, color='k', linewidth=0.5)\n",
    "plt.axvline(x=0, color='k', linewidth=0.5)\n",
    "plt.legend()\n",
    "plt.axis('equal')\n",
    "plt.show()\n",
    "\n",
    "print(\"\\n🎯 Аналогия: Идешь 3 км вправо и 2 вверх, потом еще 1 вправо и 3 вверх.\")\n",
    "print(f\"   Итого: {v_sum[0]} км вправо и {v_sum[1]} км вверх!\")"
   ]
  },
  {
   "cell_type": "markdown",
   "metadata": {},
   "source": [
    "## 5. Умножение вектора на число (масштабирование)"
   ]
  },
  {
   "cell_type": "code",
   "execution_count": null,
   "metadata": {},
   "outputs": [],
   "source": [
    "v = np.array([2, 1])\n",
    "\n",
    "plt.figure(figsize=(10, 8))\n",
    "\n",
    "# Рисуем исходный вектор и его масштабированные версии\n",
    "scalars = [0.5, 1, 2, -1]\n",
    "colors = ['orange', 'blue', 'green', 'red']\n",
    "labels = ['0.5 × v', 'v', '2 × v', '-1 × v']\n",
    "\n",
    "for scalar, color, label in zip(scalars, colors, labels):\n",
    "    v_scaled = scalar * v\n",
    "    plot_vector(v_scaled, color, label)\n",
    "\n",
    "plt.xlim(-3, 5)\n",
    "plt.ylim(-3, 3)\n",
    "plt.xlabel('X')\n",
    "plt.ylabel('Y')\n",
    "plt.title('Умножение вектора на число')\n",
    "plt.grid(True, alpha=0.3)\n",
    "plt.axhline(y=0, color='k', linewidth=0.5)\n",
    "plt.axvline(x=0, color='k', linewidth=0.5)\n",
    "plt.legend()\n",
    "plt.axis('equal')\n",
    "plt.show()\n",
    "\n",
    "print(\"💡 Умножение на число изменяет ДЛИНУ вектора, но не направление!\")\n",
    "print(\"(Кроме отрицательных чисел — тогда меняется и направление на противоположное)\")"
   ]
  },
  {
   "cell_type": "markdown",
   "metadata": {},
   "source": [
    "## 6. Векторы в 3D пространстве 🚀"
   ]
  },
  {
   "cell_type": "code",
   "execution_count": null,
   "metadata": {},
   "outputs": [],
   "source": [
    "# Создаем 3D векторы\n",
    "v1_3d = np.array([2, 3, 1])\n",
    "v2_3d = np.array([1, 0, 2])\n",
    "\n",
    "# Рисуем в 3D\n",
    "fig = plt.figure(figsize=(10, 8))\n",
    "ax = fig.add_subplot(111, projection='3d')\n",
    "\n",
    "# Рисуем векторы\n",
    "ax.quiver(0, 0, 0, v1_3d[0], v1_3d[1], v1_3d[2], \n",
    "          color='blue', arrow_length_ratio=0.1, linewidth=2, label='v1')\n",
    "ax.quiver(0, 0, 0, v2_3d[0], v2_3d[1], v2_3d[2], \n",
    "          color='red', arrow_length_ratio=0.1, linewidth=2, label='v2')\n",
    "\n",
    "# Настройки\n",
    "ax.set_xlim([0, 3])\n",
    "ax.set_ylim([0, 4])\n",
    "ax.set_zlim([0, 3])\n",
    "ax.set_xlabel('X')\n",
    "ax.set_ylabel('Y')\n",
    "ax.set_zlabel('Z')\n",
    "ax.set_title('Векторы в 3D пространстве', fontsize=14)\n",
    "ax.legend()\n",
    "\n",
    "plt.show()\n",
    "\n",
    "print(f\"v1 (3D) = {v1_3d}\")\n",
    "print(f\"v2 (3D) = {v2_3d}\")"
   ]
  },
  {
   "cell_type": "markdown",
   "metadata": {},
   "source": [
    "## 7. Игра: \"Маршрут из векторов\" 🎮\n",
    "\n",
    "Представьте: вы робот на сетке. Каждый вектор — это шаг.  \n",
    "Куда вы придете, если сделаете серию шагов?"
   ]
  },
  {
   "cell_type": "code",
   "execution_count": null,
   "metadata": {},
   "outputs": [],
   "source": [
    "# Маршрут робота\n",
    "steps = [\n",
    "    np.array([2, 1]),   # Шаг 1\n",
    "    np.array([1, 2]),   # Шаг 2\n",
    "    np.array([-1, 1]),  # Шаг 3\n",
    "    np.array([2, -1])   # Шаг 4\n",
    "]\n",
    "\n",
    "# Считаем итоговую позицию\n",
    "position = np.array([0, 0])\n",
    "positions = [position.copy()]\n",
    "\n",
    "for step in steps:\n",
    "    position = position + step\n",
    "    positions.append(position.copy())\n",
    "\n",
    "positions = np.array(positions)\n",
    "\n",
    "# Рисуем маршрут\n",
    "plt.figure(figsize=(10, 8))\n",
    "plt.plot(positions[:, 0], positions[:, 1], 'o-', linewidth=2, markersize=10, label='Маршрут робота')\n",
    "plt.plot(0, 0, 'go', markersize=15, label='Старт')\n",
    "plt.plot(positions[-1, 0], positions[-1, 1], 'ro', markersize=15, label='Финиш')\n",
    "\n",
    "# Подписываем точки\n",
    "for i, pos in enumerate(positions):\n",
    "    plt.text(pos[0]+0.1, pos[1]+0.1, f'T{i}', fontsize=12)\n",
    "\n",
    "plt.xlabel('X')\n",
    "plt.ylabel('Y')\n",
    "plt.title('Маршрут робота из векторов')\n",
    "plt.grid(True, alpha=0.3)\n",
    "plt.axhline(y=0, color='k', linewidth=0.5)\n",
    "plt.axvline(x=0, color='k', linewidth=0.5)\n",
    "plt.legend()\n",
    "plt.axis('equal')\n",
    "plt.show()\n",
    "\n",
    "print(f\"🤖 Робот начал в (0, 0)\")\n",
    "print(f\"🏁 Робот закончил в {positions[-1]}\")\n",
    "print(f\"\\n📊 Общий вектор перемещения: {positions[-1]}\")"
   ]
  },
  {
   "cell_type": "markdown",
   "metadata": {},
   "source": [
    "## 8. Связь с Машинным Обучением 🤖\n",
    "\n",
    "**Почему векторы важны для ИИ?**\n",
    "\n",
    "В ML **все данные — это векторы!**\n",
    "\n",
    "Примеры:\n",
    "- 🏠 Дом = вектор [площадь, количество комнат, этаж, цена]\n",
    "- 👤 Человек = вектор [рост, вес, возраст]\n",
    "- 🖼️ Картинка = вектор из миллионов пикселей!\n",
    "- 📝 Слово = вектор [300 чисел] (word embeddings)\n",
    "\n",
    "ML модели работают с векторами — находят похожие векторы, вычисляют расстояния, преобразуют их!"
   ]
  },
  {
   "cell_type": "code",
   "execution_count": null,
   "metadata": {},
   "outputs": [],
   "source": [
    "# Пример: Дома как векторы\n",
    "# [площадь в кв.м., количество комнат]\n",
    "house1 = np.array([50, 2])\n",
    "house2 = np.array([100, 3])\n",
    "house3 = np.array([150, 4])\n",
    "\n",
    "houses = np.array([house1, house2, house3])\n",
    "\n",
    "plt.figure(figsize=(10, 8))\n",
    "plt.scatter(houses[:, 0], houses[:, 1], s=200, c=['red', 'blue', 'green'])\n",
    "\n",
    "for i, house in enumerate(houses):\n",
    "    plt.text(house[0]+2, house[1]+0.1, f'Дом {i+1}', fontsize=12)\n",
    "\n",
    "plt.xlabel('Площадь (кв.м.)', fontsize=12)\n",
    "plt.ylabel('Количество комнат', fontsize=12)\n",
    "plt.title('Дома в векторном пространстве', fontsize=14)\n",
    "plt.grid(True, alpha=0.3)\n",
    "plt.show()\n",
    "\n",
    "print(\"💡 ML модель видит дома как точки (векторы) в пространстве!\")\n",
    "print(\"Близкие точки = похожие дома\")"
   ]
  },
  {
   "cell_type": "markdown",
   "metadata": {},
   "source": [
    "## 9. Что мы узнали?\n",
    "\n",
    "✅ Вектор — это \"стрелка\" с направлением и длиной  \n",
    "✅ Векторы можно складывать и умножать на числа  \n",
    "✅ В Python векторы = массивы NumPy  \n",
    "✅ Все данные в ML представлены как векторы  \n",
    "✅ ML модели работают в векторных пространствах\n",
    "\n",
    "---\n",
    "\n",
    "## 🎯 Следующие шаги\n",
    "\n",
    "1. Попробуйте изменить векторы в коде\n",
    "2. Создайте свой маршрут робота\n",
    "3. Подумайте: какие данные из вашей жизни можно представить как векторы?\n",
    "\n",
    "**Домашнее задание:** Откройте Homework notebook! ✏️"
   ]
  }
 ],
 "metadata": {
  "kernelspec": {
   "display_name": "Python 3",
   "language": "python",
   "name": "python3"
  },
  "language_info": {
   "codemirror_mode": {
    "name": "ipython",
    "version": 3
   },
   "file_extension": ".py",
   "mimetype": "text/x-python",
   "name": "python",
   "nbconvert_exporter": "python",
   "pygments_lexer": "ipython3",
   "version": "3.8.0"
  }
 },
 "nbformat": 4,
 "nbformat_minor": 4
}
