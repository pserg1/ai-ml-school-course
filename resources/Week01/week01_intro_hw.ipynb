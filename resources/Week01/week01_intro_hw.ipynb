{
 "cells": [
  {
   "cell_type": "markdown",
   "metadata": {},
   "source": [
    "# Неделя 1, Занятие 1: Домашнее задание\n",
    "\n",
    "## 🎯 Цель\n",
    "Закрепить знания о машинном обучении и линейной регрессии\n",
    "\n",
    "**Инструкция:** Заполните ячейки с кодом там, где написано `# TODO`\n",
    "\n",
    "---"
   ]
  },
  {
   "cell_type": "markdown",
   "metadata": {},
   "source": [
    "## Задание 1: Импорт библиотек\n",
    "\n",
    "Импортируйте необходимые библиотеки для работы с данными и визуализацией."
   ]
  },
  {
   "cell_type": "code",
   "execution_count": null,
   "metadata": {},
   "outputs": [],
   "source": [
    "# TODO: Импортируйте numpy как np\n",
    "\n",
    "\n",
    "# TODO: Импортируйте matplotlib.pyplot как plt\n",
    "\n",
    "\n",
    "# TODO: Импортируйте LinearRegression из sklearn.linear_model\n",
    "\n",
    "\n",
    "# Настройка графиков (можете скопировать из demo)\n",
    "plt.style.use('seaborn-v0_8-darkgrid')\n",
    "plt.rcParams['figure.figsize'] = (10, 6)"
   ]
  },
  {
   "cell_type": "markdown",
   "metadata": {},
   "source": [
    "## Задание 2: Создание данных\n",
    "\n",
    "Создайте данные о зависимости оценки студента от количества часов учебы:\n",
    "- 2 часа → оценка 3\n",
    "- 4 часа → оценка 5\n",
    "- 6 часов → оценка 7\n",
    "- 8 часов → оценка 8\n",
    "- 10 часов → оценка 9"
   ]
  },
  {
   "cell_type": "code",
   "execution_count": null,
   "metadata": {},
   "outputs": [],
   "source": [
    "# TODO: Создайте массив hours с количеством часов учебы\n",
    "hours = # ваш код здесь\n",
    "\n",
    "# TODO: Создайте массив grades с оценками\n",
    "grades = # ваш код здесь\n",
    "\n",
    "print(f\"Часы учебы: {hours}\")\n",
    "print(f\"Оценки: {grades}\")"
   ]
  },
  {
   "cell_type": "markdown",
   "metadata": {},
   "source": [
    "## Задание 3: Визуализация данных\n",
    "\n",
    "Постройте график зависимости оценки от часов учебы."
   ]
  },
  {
   "cell_type": "code",
   "execution_count": null,
   "metadata": {},
   "outputs": [],
   "source": [
    "# TODO: Постройте scatter plot (точечный график)\n",
    "# Используйте plt.scatter(x, y, ...)\n",
    "\n",
    "\n",
    "# TODO: Добавьте подписи осей\n",
    "plt.xlabel( # ваша подпись )\n",
    "plt.ylabel( # ваша подпись )\n",
    "\n",
    "# TODO: Добавьте заголовок\n",
    "plt.title( # ваш заголовок )\n",
    "\n",
    "plt.grid(True)\n",
    "plt.show()"
   ]
  },
  {
   "cell_type": "markdown",
   "metadata": {},
   "source": [
    "## Задание 4: Создание и обучение модели\n",
    "\n",
    "Создайте линейную модель и обучите её на ваших данных."
   ]
  },
  {
   "cell_type": "code",
   "execution_count": null,
   "metadata": {},
   "outputs": [],
   "source": [
    "# TODO: Преобразуйте hours в 2D массив (используйте reshape(-1, 1))\n",
    "X = # ваш код\n",
    "y = grades\n",
    "\n",
    "# TODO: Создайте модель LinearRegression\n",
    "model = # ваш код\n",
    "\n",
    "# TODO: Обучите модель (используйте метод .fit())\n",
    "# ваш код\n",
    "\n",
    "print(\"✅ Модель обучена!\")\n",
    "print(f\"Формула: оценка = {model.coef_[0]:.3f} × часы + {model.intercept_:.3f}\")"
   ]
  },
  {
   "cell_type": "markdown",
   "metadata": {},
   "source": [
    "## Задание 5: Предсказание\n",
    "\n",
    "Используйте модель для предсказания оценки при 7 часах учебы."
   ]
  },
  {
   "cell_type": "code",
   "execution_count": null,
   "metadata": {},
   "outputs": [],
   "source": [
    "# TODO: Предскажите оценку для 7 часов учебы\n",
    "new_hours = np.array([[7]])\n",
    "predicted_grade = # ваш код (используйте model.predict())\n",
    "\n",
    "print(f\"📚 Если учиться 7 часов, ожидаемая оценка: {predicted_grade[0]:.2f}\")"
   ]
  },
  {
   "cell_type": "markdown",
   "metadata": {},
   "source": [
    "## Задание 6: Визуализация модели\n",
    "\n",
    "Постройте график с реальными данными и линией предсказаний модели."
   ]
  },
  {
   "cell_type": "code",
   "execution_count": null,
   "metadata": {},
   "outputs": [],
   "source": [
    "# TODO: Создайте массив для плавной линии от 0 до 12 часов\n",
    "hours_line = np.linspace(0, 12, 100).reshape(-1, 1)\n",
    "\n",
    "# TODO: Получите предсказания модели для hours_line\n",
    "grades_predicted = # ваш код\n",
    "\n",
    "# TODO: Постройте scatter plot с реальными данными\n",
    "# ваш код\n",
    "\n",
    "# TODO: Постройте линию предсказаний (используйте plt.plot())\n",
    "# ваш код\n",
    "\n",
    "plt.xlabel('Часы учебы')\n",
    "plt.ylabel('Оценка')\n",
    "plt.title('Модель предсказывает оценки! 🎓')\n",
    "plt.legend()\n",
    "plt.grid(True)\n",
    "plt.show()"
   ]
  },
  {
   "cell_type": "markdown",
   "metadata": {},
   "source": [
    "## Задание 7*: Креативное задание (необязательно, но интересно!)\n",
    "\n",
    "Придумайте свою зависимость (например: количество тренировок → скорость бега, количество прочитанных книг → словарный запас, и т.д.)\n",
    "\n",
    "Создайте данные, визуализируйте, обучите модель и сделайте предсказание!"
   ]
  },
  {
   "cell_type": "code",
   "execution_count": null,
   "metadata": {},
   "outputs": [],
   "source": [
    "# Ваш креативный код здесь! 🚀\n",
    "\n"
   ]
  },
  {
   "cell_type": "markdown",
   "metadata": {},
   "source": [
    "## 🎉 Отлично!\n",
    "\n",
    "Вы только что:\n",
    "- ✅ Создали свой первый ML pipeline\n",
    "- ✅ Обучили модель\n",
    "- ✅ Сделали предсказания\n",
    "- ✅ Визуализировали результаты\n",
    "\n",
    "---\n",
    "\n",
    "## 🤔 Вопросы для размышления\n",
    "\n",
    "1. Что произойдет, если добавить \"выброс\" в данные (например, 1 час → оценка 10)?\n",
    "2. Можно ли использовать эту модель для предсказания оценки при 50 часах учебы? Почему да/нет?\n",
    "3. Как думаете, всегда ли больше часов учебы = лучше оценка?\n",
    "\n",
    "---\n",
    "\n",
    "**Следующее занятие:** Векторы — визуализация в 2D/3D 🎯"
   ]
  }
 ],
 "metadata": {
  "kernelspec": {
   "display_name": "Python 3",
   "language": "python",
   "name": "python3"
  },
  "language_info": {
   "codemirror_mode": {
    "name": "ipython",
    "version": 3
   },
   "file_extension": ".py",
   "mimetype": "text/x-python",
   "name": "python",
   "nbconvert_exporter": "python",
   "pygments_lexer": "ipython3",
   "version": "3.8.0"
  }
 },
 "nbformat": 4,
 "nbformat_minor": 4
}
