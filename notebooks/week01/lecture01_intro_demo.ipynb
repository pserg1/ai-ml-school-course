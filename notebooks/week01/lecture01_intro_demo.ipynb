{
 "cells": [
  {
   "cell_type": "markdown",
   "metadata": {},
   "source": [
    "# Неделя 1, Занятие 1: Введение в ИИ - \"Умные машины как предсказатели\"\n",
    "\n",
    "## 🎯 Цели занятия\n",
    "- Понять, что такое машинное обучение\n",
    "- Создать свою первую простую модель\n",
    "- Научиться предсказывать на основе данных\n",
    "\n",
    "---"
   ]
  },
  {
   "cell_type": "markdown",
   "metadata": {},
   "source": [
    "## 1. Что такое Машинное Обучение?\n",
    "\n",
    "Машинное обучение (ML) — это когда компьютер **учится на примерах**, а не следует четким правилам.\n",
    "\n",
    "**Аналогия:** Как ребенок учится распознавать кошек?\n",
    "- ❌ Не через правила: \"Если есть усы, хвост и мяукает, то это кошка\"\n",
    "- ✅ Через примеры: \"Вот кошка, вот еще кошка, а это не кошка (собака)\"\n",
    "\n",
    "ML работает так же — мы показываем компьютеру примеры, и он находит закономерности!\n",
    "\n",
    "---"
   ]
  },
  {
   "cell_type": "markdown",
   "metadata": {},
   "source": [
    "## 2. Простой пример: Предсказание цены дома\n",
    "\n",
    "Представьте: вы хотите купить дом. Как понять, сколько он будет стоить?\n",
    "\n",
    "**Данные:**\n",
    "- Площадь дома → Цена\n",
    "\n",
    "Давайте создадим \"умную машину\", которая предскажет цену по площади!"
   ]
  },
  {
   "cell_type": "code",
   "execution_count": null,
   "metadata": {},
   "outputs": [],
   "source": [
    "# Импортируем библиотеки\n",
    "import numpy as np\n",
    "import matplotlib.pyplot as plt\n",
    "\n",
    "# Настройка для красивых графиков\n",
    "plt.style.use('seaborn-v0_8-darkgrid')\n",
    "plt.rcParams['figure.figsize'] = (10, 6)"
   ]
  },
  {
   "cell_type": "code",
   "execution_count": null,
   "metadata": {},
   "outputs": [],
   "source": [
    "# Наши данные: площадь домов (в кв.м.) и их цены (в млн руб.)\n",
    "area = np.array([50, 70, 90, 110, 130, 150])  # площадь в кв.м.\n",
    "price = np.array([3, 4.2, 5.4, 6.6, 7.8, 9])   # цена в млн руб.\n",
    "\n",
    "# Визуализируем данные\n",
    "plt.scatter(area, price, color='red', s=100, label='Реальные дома')\n",
    "plt.xlabel('Площадь (кв.м.)', fontsize=12)\n",
    "plt.ylabel('Цена (млн руб.)', fontsize=12)\n",
    "plt.title('Зависимость цены дома от площади', fontsize=14)\n",
    "plt.legend()\n",
    "plt.grid(True)\n",
    "plt.show()\n",
    "\n",
    "print(\"Видите закономерность? Чем больше дом, тем дороже! 📈\")"
   ]
  },
  {
   "cell_type": "markdown",
   "metadata": {},
   "source": [
    "### 🤔 Вопрос: Сколько стоит дом площадью 100 кв.м.?\n",
    "\n",
    "Давайте создадим модель, которая найдет закономерность!"
   ]
  },
  {
   "cell_type": "code",
   "execution_count": null,
   "metadata": {},
   "outputs": [],
   "source": [
    "# Создаем простую линейную модель\n",
    "# Идея: цена = k * площадь + b (формула прямой линии)\n",
    "\n",
    "from sklearn.linear_model import LinearRegression\n",
    "\n",
    "# Подготовка данных (нужен 2D массив для sklearn)\n",
    "X = area.reshape(-1, 1)  # площадь\n",
    "y = price                 # цена\n",
    "\n",
    "# Создаем и обучаем модель\n",
    "model = LinearRegression()\n",
    "model.fit(X, y)\n",
    "\n",
    "print(\"✅ Модель обучена!\")\n",
    "print(f\"Формула модели: цена = {model.coef_[0]:.3f} × площадь + {model.intercept_:.3f}\")"
   ]
  },
  {
   "cell_type": "code",
   "execution_count": null,
   "metadata": {},
   "outputs": [],
   "source": [
    "# Визуализируем результат\n",
    "# Создаем плавную линию предсказаний\n",
    "area_line = np.linspace(40, 160, 100).reshape(-1, 1)\n",
    "price_predicted = model.predict(area_line)\n",
    "\n",
    "# Рисуем\n",
    "plt.scatter(area, price, color='red', s=100, label='Реальные дома', zorder=3)\n",
    "plt.plot(area_line, price_predicted, color='blue', linewidth=2, label='Предсказания модели')\n",
    "plt.xlabel('Площадь (кв.м.)', fontsize=12)\n",
    "plt.ylabel('Цена (млн руб.)', fontsize=12)\n",
    "plt.title('Модель научилась предсказывать цену! 🎉', fontsize=14)\n",
    "plt.legend()\n",
    "plt.grid(True)\n",
    "plt.show()"
   ]
  },
  {
   "cell_type": "code",
   "execution_count": null,
   "metadata": {},
   "outputs": [],
   "source": [
    "# Давайте предскажем цену дома площадью 100 кв.м.\n",
    "new_area = np.array([[100]])  # дом 100 кв.м.\n",
    "predicted_price = model.predict(new_area)[0]\n",
    "\n",
    "print(f\"🏠 Предсказание: Дом площадью 100 кв.м. стоит ~{predicted_price:.2f} млн руб.\")\n",
    "\n",
    "# Можете попробовать другие значения!\n",
    "test_areas = [80, 120, 140]\n",
    "for test_area in test_areas:\n",
    "    pred = model.predict([[test_area]])[0]\n",
    "    print(f\"Дом {test_area} кв.м. → {pred:.2f} млн руб.\")"
   ]
  },
  {
   "cell_type": "markdown",
   "metadata": {},
   "source": [
    "## 3. Интерактивный эксперимент 🎮\n",
    "\n",
    "Попробуйте изменить данные и посмотреть, как модель адаптируется!"
   ]
  },
  {
   "cell_type": "code",
   "execution_count": null,
   "metadata": {},
   "outputs": [],
   "source": [
    "# Измените эти данные! Например, добавьте более дорогие дома\n",
    "area_custom = np.array([60, 80, 100, 120, 140])\n",
    "price_custom = np.array([5, 7, 9, 11, 13])\n",
    "\n",
    "# Обучаем новую модель\n",
    "X_custom = area_custom.reshape(-1, 1)\n",
    "model_custom = LinearRegression()\n",
    "model_custom.fit(X_custom, price_custom)\n",
    "\n",
    "# Предсказываем\n",
    "area_line_custom = np.linspace(50, 150, 100).reshape(-1, 1)\n",
    "price_predicted_custom = model_custom.predict(area_line_custom)\n",
    "\n",
    "# Рисуем\n",
    "plt.scatter(area_custom, price_custom, color='green', s=100, label='Ваши данные')\n",
    "plt.plot(area_line_custom, price_predicted_custom, color='orange', linewidth=2, label='Новая модель')\n",
    "plt.xlabel('Площадь (кв.м.)')\n",
    "plt.ylabel('Цена (млн руб.)')\n",
    "plt.title('Модель адаптировалась к вашим данным!')\n",
    "plt.legend()\n",
    "plt.grid(True)\n",
    "plt.show()\n",
    "\n",
    "print(f\"Новая формула: цена = {model_custom.coef_[0]:.3f} × площадь + {model_custom.intercept_:.3f}\")"
   ]
  },
  {
   "cell_type": "markdown",
   "metadata": {},
   "source": [
    "## 4. Что мы узнали?\n",
    "\n",
    "✅ Машинное обучение — это обучение на примерах (данных)  \n",
    "✅ Модель находит закономерности в данных  \n",
    "✅ После обучения модель может делать предсказания  \n",
    "✅ Python + библиотеки (NumPy, Matplotlib, Scikit-learn) упрощают ML\n",
    "\n",
    "---\n",
    "\n",
    "## 🎯 Следующие шаги\n",
    "\n",
    "1. Попробуйте изменить данные в ячейке выше\n",
    "2. Добавьте больше домов (увеличьте массив)\n",
    "3. Сделайте данные \"шумными\" (разбросанными) и посмотрите, как модель справится\n",
    "\n",
    "**Домашнее задание:** Откройте Homework notebook и выполните задания! ✏️"
   ]
  }
 ],
 "metadata": {
  "kernelspec": {
   "display_name": "Python 3",
   "language": "python",
   "name": "python3"
  },
  "language_info": {
   "codemirror_mode": {
    "name": "ipython",
    "version": 3
   },
   "file_extension": ".py",
   "mimetype": "text/x-python",
   "name": "python",
   "nbconvert_exporter": "python",
   "pygments_lexer": "ipython3",
   "version": "3.8.0"
  }
 },
 "nbformat": 4,
 "nbformat_minor": 4
}
